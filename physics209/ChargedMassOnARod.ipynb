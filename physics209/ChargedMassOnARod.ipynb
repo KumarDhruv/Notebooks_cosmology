{
 "cells": [
  {
   "cell_type": "code",
   "execution_count": 1,
   "metadata": {},
   "outputs": [],
   "source": [
    "import numpy as np\n",
    "import matplotlib.pyplot as plt\n",
    "%matplotlib inline"
   ]
  },
  {
   "cell_type": "markdown",
   "metadata": {},
   "source": [
    "### Charged mass on a rod ###\n",
    "\n",
    "An object of mass $m$ and charge $q$ is fixed to the end of a massless,\n",
    "rigid rod of length $\\ell$.  The other end of the rod is fixed to the\n",
    "origin by a frictionless joint which allows the rod to rotate freely in\n",
    "any direction.\n",
    "A constant magnetic field, $\\vec{B}=B_0\\hat{z}$ threads the space, parallel\n",
    "to the uniform gravitational field giving acceleration $-g\\hat{z}$.\n",
    "Define $\\beta=qB_0/(2m)$ and $R^2(z)=\\ell^2-z^2$.\n",
    "\n",
    "The Hamilton equations of motion are\n",
    "\\begin{eqnarray}\n",
    "  m\\dot{z}         &=& p_z\\ \\frac{R^2}{\\ell^2} \\\\\n",
    "  mR^2\\dot{\\theta} &=& p_\\theta - \\beta mR^2   \\\\\n",
    "  \\dot{p_z}        &=& \\frac{p_z^2 z}{m\\ell^2} - mg\n",
    "                    -  \\frac{2[p_\\theta-\\beta mR^2]\\beta m z}{mR^2}\n",
    "                    -  \\frac{[p_\\theta-\\beta mR^2]^2z}{mR^4} \\\\\n",
    "  \\dot{p_\\theta}   &=& 0\n",
    "\\end{eqnarray}"
   ]
  },
  {
   "cell_type": "code",
   "execution_count": 31,
   "metadata": {},
   "outputs": [
    {
     "data": {
      "text/plain": [
       "Text(0, 0.5, '$\\\\theta/\\\\pi$')"
      ]
     },
     "execution_count": 31,
     "metadata": {},
     "output_type": "execute_result"
    },
    {
     "data": {
      "image/png": "[encoded data removed]",
      "text/plain": [
       "<Figure size 1008x180 with 2 Axes>"
      ]
     },
     "metadata": {
      "needs_background": "light"
     },
     "output_type": "display_data"
    }
   ],
   "source": [
    "from scipy.integrate import solve_ivp\n",
    "\n",
    "# Set up some constants for our system.\n",
    "mm   = 1.0\n",
    "gg   = 10.\n",
    "beta = 1.0\n",
    "ell  = 1.0\n",
    "ell2 = ell**2\n",
    "\n",
    "def derivs(t,y):\n",
    "    \"\"\"The derivatives for the ODE integration.\"\"\"\n",
    "    # Order our variables as [z,theta,p_z,p_theta] and return the derivatives in this order.\n",
    "    # Just to make bookkeeping easier we'll pass p_theta and return a zero derivative for it.\n",
    "    zz    = y[0]\n",
    "    tt    = y[1]\n",
    "    pz    = y[2]\n",
    "    pt    = y[3]\n",
    "    R2    = np.max([ell2 - zz**2,1e-2])\n",
    "    rho   = pt - beta*mm*R2\n",
    "    dy    = np.zeros_like(y)\n",
    "    dy[0] = pz * R2/ell2\n",
    "    dy[1] = (pt-beta*mm*R2)/(mm*R2)\n",
    "    dy[2] = pz**2*zz/mm/ell2 - mm*gg - 2*rho*beta*zz/R2 - rho**2*zz/mm/R2**2\n",
    "    dy[3] = 0.0\n",
    "    return(dy)\n",
    "    #\n",
    "# Need a bit of angular momentum to stop R^2 getting small,\n",
    "# which causes real problems.  Can probably rewrite these\n",
    "# equations to get better numerical stability.\n",
    "tobs = np.linspace(0.,3.,101)\n",
    "y0   = np.array([ell*np.cos(10*np.pi/180),0.0,0.0,0.5])\n",
    "res  = solve_ivp(derivs,[tobs[0],tobs[-1]],y0,t_eval=tobs)\n",
    "tobs = res.t\n",
    "res  = res.y\n",
    "#\n",
    "zz   = res[0,:]\n",
    "tt   = res[1,:]\n",
    "pz   = res[2,:]\n",
    "pt   = res[3,:]\n",
    "# and make a series of plots\n",
    "fig,ax = plt.subplots(1,2,figsize=(14,2.5))\n",
    "ax[0].plot(tobs,zz)\n",
    "ax[1].plot(tobs,tt/np.pi)\n",
    "ax[0].set_xlabel(r'$t$')\n",
    "ax[0].set_ylabel(r'$z$')\n",
    "ax[1].set_xlabel(r'$t$')\n",
    "ax[1].set_ylabel(r'$\\theta/\\pi$')"
   ]
  }
 ],
 "metadata": {
  "kernelspec": {
   "display_name": "Python 3",
   "language": "python",
   "name": "python3"
  },
  "language_info": {
   "codemirror_mode": {
    "name": "ipython",
    "version": 3
   },
   "file_extension": ".py",
   "mimetype": "text/x-python",
   "name": "python",
   "nbconvert_exporter": "python",
   "pygments_lexer": "ipython3",
   "version": "3.8.5"
  }
 },
 "nbformat": 4,
 "nbformat_minor": 4
}
