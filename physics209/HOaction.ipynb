{
 "cells": [
  {
   "cell_type": "code",
   "execution_count": 1,
   "metadata": {},
   "outputs": [],
   "source": [
    "import numpy as np\n",
    "import matplotlib.pyplot as plt\n",
    "%matplotlib inline"
   ]
  },
  {
   "cell_type": "markdown",
   "metadata": {},
   "source": [
    "## Harmonic Oscillator Action ##\n",
    "\n",
    "Let's consider the action of the (classical) harmonic oscillator as a function of \"paths\".  Using natural units\n",
    "$$\n",
    "  L = \\frac{1}{2}\\dot{q}^2 + \\frac{1}{2}q^2\n",
    "$$\n",
    "with equations of motion and classical solution:\n",
    "$$\n",
    "  \\ddot{q} = -q \\quad\\Rightarrow\\quad q(t)=A\\cos t + B\\sin t\n",
    "$$\n",
    "\n",
    "To discretize the system we will decompose paths, $q(t)$, in a Fourier series:\n",
    "$$\n",
    "  q(t) = \\sum_n a_n\\cos nt + b_n\\sin nt\n",
    "$$\n",
    "Now we must impose our boundary conditions and \"extremize\" the action.  Let's start by considering a full oscillation, such that $q(0)=q(2\\pi)=1$.  The classical solution is then $a_1=1$ and all other $a_n$ and $b_n$ zero.  The action is $S=S_1-S_2$\n",
    "In terms of which our action is $S=S_1-S_2$ with\n",
    "$$\n",
    "  S_1 = \\frac{1}{2}\\int_0^{2\\pi} dt\\ \\dot{q}^2\n",
    "      = \\frac{\\pi}{2}\\sum_{n=1}^\\infty n^2\\left( a_n^2 + b_n^2 \\right)\n",
    "$$\n",
    "and\n",
    "$$\n",
    "  S_2 = \\frac{1}{2}\\int_0^{2\\pi} dt\\ q^2\n",
    "      = \\pi a_0^2 + \\frac{\\pi}{2}\\sum_{n=1}^\\infty \\left( a_n^2 + b_n^2 \\right)\n",
    "$$\n",
    "or\n",
    "$$\n",
    "  S = S_1 - S_2 = \\frac{\\pi}{2}\\sum_{n=2}^\\infty (n^2-1)(a_n^2+b_n^2) - \\pi a_0^2\n",
    "  \\quad\\mathrm{with}\\quad a_0 = 1 - \\sum_{n=1}^\\infty a_n\n",
    "$$\n",
    "\n",
    "Let's work in a subspace where only $a_0$, $a_1$ and $b_1$ are non-zero, i.e. we're considering a 2D slice through our (infinite dimensional) space of paths:\n",
    "$$\n",
    "  q(t) = (1-a_1) + a_1\\cos t + b_1\\sin t\n",
    "$$\n",
    "In this subspace\n",
    "$$\n",
    "  S = S_1 - S_2 = -\\pi (1-a_1)^2\n",
    "$$\n",
    "so along this slice the action is _maximized_ at the classical solution ($a_1=1$) and completely flat in the $b_1$ direction (i.e. it is a degenerate limit of a saddle or maximum).\n",
    "\n",
    "What about the subspace with $b_n\\equiv 0$ and only $a_0$, $a_1$ and $a_2$ non-zero?  Now we have\n",
    "$$\n",
    "  S = S_1 - S_2 = \\frac{3\\pi}{2} a_2^2 - \\pi(1-a_1-a_2)^2\n",
    "$$\n",
    "which has a saddle point at $a_1=1$, $a_0=a_2=0$.  A little thought will show you that if we were to open up the space, $S$ is convex in the other $a_n$ and $b_n$ directions except for $b_1$ which doesn't enter $S$."
   ]
  },
  {
   "cell_type": "code",
   "execution_count": 2,
   "metadata": {},
   "outputs": [],
   "source": [
    "# Let's plot the action on a grid of a_1-a_2:\n",
    "a1vals = np.linspace( 0.5,1.5,25)\n",
    "a2vals = np.linspace(-0.5,0.5,25)\n",
    "A1,A2  = np.meshgrid(a1vals,a2vals,indexing='ij')\n",
    "A0     = 1-A1-A2"
   ]
  },
  {
   "cell_type": "code",
   "execution_count": 3,
   "metadata": {},
   "outputs": [
    {
     "data": {
      "text/plain": [
       "Text(0.5, 1.0, 'Action')"
      ]
     },
     "execution_count": 3,
     "metadata": {},
     "output_type": "execute_result"
    },
    {
     "data": {
      "image/png": "[encoded data removed]",
      "text/plain": [
       "<Figure size 432x432 with 1 Axes>"
      ]
     },
     "metadata": {
      "needs_background": "light"
     },
     "output_type": "display_data"
    }
   ],
   "source": [
    "S1 = np.pi/2*( A1**2 + 4*A2**2 )\n",
    "S2 = np.pi*A0**2 + np.pi/2*(A1**2+A2**2)\n",
    "SS = S1 - S2\n",
    "#\n",
    "fig,ax = plt.subplots(1,1,figsize=(6,6))\n",
    "ax.imshow(SS,origin='lower',\\\n",
    "          extent=[a1vals[0],a1vals[-1],a2vals[0],a2vals[-1]])\n",
    "ax.set_xlabel(r'$a_1$')\n",
    "ax.set_ylabel(r'$a_2$')\n",
    "ax.set_title('Action')"
   ]
  },
  {
   "cell_type": "markdown",
   "metadata": {},
   "source": [
    "#### Changing the limits ####\n",
    "\n",
    "What if we don't consider a full oscillation, but a shorter period of time?  Suppose for example we took $q(0)=1$ as before but now $q(0.1)=\\cos(0.1)\\simeq 0.995$?  This has the same classical solution, $q(t)=\\cos t$, but now $S_1$ and $S_2$ are more complicated and both boundary conditions give constraints on the $a_n$ and $b_n$.  If you look at the slice $b_n\\equiv 0$ for all $n$, what does the action look like near the classical path? "
   ]
  }
 ],
 "metadata": {
  "kernelspec": {
   "display_name": "Python 3",
   "language": "python",
   "name": "python3"
  },
  "language_info": {
   "codemirror_mode": {
    "name": "ipython",
    "version": 3
   },
   "file_extension": ".py",
   "mimetype": "text/x-python",
   "name": "python",
   "nbconvert_exporter": "python",
   "pygments_lexer": "ipython3",
   "version": "3.6.9"
  }
 },
 "nbformat": 4,
 "nbformat_minor": 4
}
